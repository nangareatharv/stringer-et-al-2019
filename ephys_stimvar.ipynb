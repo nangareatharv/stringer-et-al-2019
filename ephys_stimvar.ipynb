{
 "cells": [
  {
   "cell_type": "code",
   "execution_count": 7,
   "metadata": {},
   "outputs": [],
   "source": [
    "import os\n",
    "\n",
    "import numpy as np\n",
    "import pandas as pd\n",
    "import matplotlib.pyplot as plt\n",
    "\n",
    "from allensdk.brain_observatory.ecephys.ecephys_project_cache import EcephysProjectCache"
   ]
  },
  {
   "cell_type": "markdown",
   "metadata": {},
   "source": [
    "The `EcephysProjectCache` is the main entry point to the Visual Coding Neuropixels dataset. It allows you to download data for individual recording sessions and view cross-session summary information."
   ]
  },
  {
   "cell_type": "code",
   "execution_count": 8,
   "metadata": {
    "scrolled": false
   },
   "outputs": [],
   "source": [
    "# this path determines where downloaded data will be stored\n",
    "manifest_path = os.path.join(\"example_ecephys_project_cache\", \"manifest.json\")\n",
    "\n",
    "cache = EcephysProjectCache.from_warehouse(manifest=manifest_path)"
   ]
  },
  {
   "cell_type": "code",
   "execution_count": 9,
   "metadata": {},
   "outputs": [],
   "source": [
    "# only use brain_observatory_1.1 datasets\n",
    "sessions = cache.get_session_table()\n",
    "brain_observatory_type_sessions = sessions[sessions[\"session_type\"] == \"brain_observatory_1.1\"]\n",
    "brain_observatory_type_sessions.tail()\n",
    "session_ids = brain_observatory_type_sessions['session_type'].index"
   ]
  },
  {
   "cell_type": "code",
   "execution_count": 59,
   "metadata": {},
   "outputs": [],
   "source": [
    "import glob\n",
    "#areas = vis_units['ecephys_structure_acronym'].values\n",
    "\n",
    "def get_spikes(session, vis_units, drifting=False):\n",
    "    if drifting:\n",
    "        stim_pres = session.get_stimulus_table(\"drifting_gratings\")\n",
    "    else:\n",
    "        stim_pres = session.get_stimulus_table(\"static_gratings\")\n",
    "        \n",
    "    # using stim_pres\n",
    "    spikes = session.presentationwise_spike_times(\n",
    "        stimulus_presentation_ids = stim_pres.index.values,\n",
    "        unit_ids = vis_units.index.values[:]\n",
    "    )\n",
    "\n",
    "    spikes[\"count\"] = np.zeros(spikes.shape[0])\n",
    "    spikes = spikes.groupby([\"stimulus_presentation_id\", \"unit_id\"]).count()\n",
    "    sresp = pd.pivot_table(\n",
    "        spikes, \n",
    "        values=\"count\",\n",
    "        index=\"stimulus_presentation_id\", \n",
    "        columns=\"unit_id\", \n",
    "        fill_value=0.0,\n",
    "        aggfunc=np.sum\n",
    "    )\n",
    "    \n",
    "    stim_pres = stim_pres[np.isin(stim_pres.index, sresp.index)]\n",
    "    stims = stim_pres.orientation.values!='null'\n",
    "    sresp = sresp.to_numpy().T\n",
    "    sresp = sresp[:, stims]\n",
    "    if drifting:\n",
    "        istims = stim_pres.values[:, [1,-3]]\n",
    "        #istims = istims[stims].astype(np.float32)\n",
    "        istims = []\n",
    "        for row in stim_pres.values:\n",
    "            if drifting:\n",
    "                istim = [float(x) for x in row[1] + row[-3]]\n",
    "            else:\n",
    "                print(\"Value of row[5] before conversion:\", row[5])\n",
    "                istim = [float(x) for x in row[1:3] + [row[5]]]\n",
    "                istims.append(istim)\n",
    "\n",
    "        istims = np.array(istims)\n",
    "        istims = istims[stims].astype(np.float32)\n",
    "\n",
    "    else:\n",
    "        istims = stim_pres.values[:, [1,2,5]]\n",
    "        print(istims)\n",
    "\n",
    "        istims = np.where(istims == 'static_gratings', 0, istims)\n",
    "       # item_to_remove = 'static_gratings'\n",
    "\n",
    "# Loop through sublists and remove the item within each sublist\n",
    "      #  data_without_gratings = []\n",
    "       # for sublist in istims:\n",
    "        #    data_without_gratings.append([item for item in sublist if item != item_to_remove])\n",
    "        \n",
    "       # istims = data_without_gratings\n",
    "        print(\"new data\", istims)\n",
    "        istims = np.array(istims)\n",
    "        print(\"array\", istims)\n",
    "        istims = istims[stims].astype(np.float32)\n",
    "    return sresp, istims\n",
    "\n",
    "def tuning_repeats(sresp, istims, drifting=False):\n",
    "    _,istim = np.unique(istims, axis=0, return_inverse=True)\n",
    "    NN = sresp.shape[0]\n",
    "    nstim = istim.size // 2\n",
    "    two_repeats = np.zeros((nstim, NN, 2), np.float32)\n",
    "    tun = np.zeros((np.unique(istim).size, sresp.shape[0]), np.float32)\n",
    "    ik = 0\n",
    "    for k,iori in enumerate(np.unique(istims[:,0])):\n",
    "        tun[k] = sresp[:, istims[:,0]==iori].astype(np.float32).mean(axis=-1)\n",
    "        if drifting:\n",
    "            ist = np.logical_and(istims[:,0]==iori, istims[:,1]==8)\n",
    "        else:\n",
    "            ist = np.logical_and(np.logical_and(istims[:,0]==iori, istims[:,1]==0.0, istims[:,2]==0.04))\n",
    "        ink = (ist).sum() // 2\n",
    "        two_repeats[ik:ik+ink,:,0] = sresp[:, ist][:, :ink].T\n",
    "        two_repeats[ik:ik+ink,:,1] = sresp[:, ist][:, ink:2*ink].T\n",
    "        ik += ink\n",
    "    two_repeats = two_repeats[:ik]\n",
    "    \n",
    "    # compute signal variance\n",
    "    A = two_repeats.copy()\n",
    "    A = (A - A.mean(axis=0)) / A.std(axis=0) + 1e-3\n",
    "    sigvar =(A[:,:,0] * A[:,:,1]).mean(axis=0)\n",
    "    \n",
    "    return tun, two_repeats, sigvar\n"
   ]
  },
  {
   "cell_type": "code",
   "execution_count": 60,
   "metadata": {},
   "outputs": [
    {
     "name": "stdout",
     "output_type": "stream",
     "text": [
      "719161530\n",
      "[[5398.31325738159 5398.563476312724 'static_gratings']\n",
      " [5398.563476312724 5398.813695243857 'static_gratings']\n",
      " [5398.813695243857 5399.063914174991 'static_gratings']\n",
      " ...\n",
      " [9150.74683417499 9150.997045243856 'static_gratings']\n",
      " [9150.997045243856 9151.247256312725 'static_gratings']\n",
      " [9151.247256312725 9151.49746738159 'static_gratings']]\n",
      "new data [[5398.31325738159 5398.563476312724 0]\n",
      " [5398.563476312724 5398.813695243857 0]\n",
      " [5398.813695243857 5399.063914174991 0]\n",
      " ...\n",
      " [9150.74683417499 9150.997045243856 0]\n",
      " [9150.997045243856 9151.247256312725 0]\n",
      " [9151.247256312725 9151.49746738159 0]]\n",
      "array [[5398.31325738159 5398.563476312724 0]\n",
      " [5398.563476312724 5398.813695243857 0]\n",
      " [5398.813695243857 5399.063914174991 0]\n",
      " ...\n",
      " [9150.74683417499 9150.997045243856 0]\n",
      " [9150.997045243856 9151.247256312725 0]\n",
      " [9151.247256312725 9151.49746738159 0]]\n"
     ]
    },
    {
     "ename": "TypeError",
     "evalue": "logical_and() takes from 2 to 3 positional arguments but 1 were given",
     "output_type": "error",
     "traceback": [
      "\u001b[1;31m---------------------------------------------------------------------------\u001b[0m",
      "\u001b[1;31mTypeError\u001b[0m                                 Traceback (most recent call last)",
      "Cell \u001b[1;32mIn[60], line 17\u001b[0m\n\u001b[0;32m     10\u001b[0m \u001b[38;5;66;03m# drifting\u001b[39;00m\n\u001b[0;32m     11\u001b[0m \u001b[38;5;66;03m#sresp, istims = get_spikes(session, vis_units, True)\u001b[39;00m\n\u001b[0;32m     12\u001b[0m \u001b[38;5;66;03m#tun, two_repeats, sigvar = tuning_repeats(sresp, istims, True)\u001b[39;00m\n\u001b[0;32m     13\u001b[0m \u001b[38;5;66;03m#print(sigvar.mean())\u001b[39;00m\n\u001b[0;32m     14\u001b[0m \n\u001b[0;32m     15\u001b[0m \u001b[38;5;66;03m# static\u001b[39;00m\n\u001b[0;32m     16\u001b[0m sresp, istims \u001b[38;5;241m=\u001b[39m get_spikes(session, vis_units, \u001b[38;5;28;01mFalse\u001b[39;00m)\n\u001b[1;32m---> 17\u001b[0m tun, two_repeats, sv0 \u001b[38;5;241m=\u001b[39m \u001b[43mtuning_repeats\u001b[49m\u001b[43m(\u001b[49m\u001b[43msresp\u001b[49m\u001b[43m,\u001b[49m\u001b[43m \u001b[49m\u001b[43mistims\u001b[49m\u001b[43m,\u001b[49m\u001b[43m \u001b[49m\u001b[38;5;28;43;01mFalse\u001b[39;49;00m\u001b[43m)\u001b[49m\n\u001b[0;32m     18\u001b[0m \u001b[38;5;28mprint\u001b[39m(sv0\u001b[38;5;241m.\u001b[39mmean())\n\u001b[0;32m     19\u001b[0m sigvar \u001b[38;5;241m=\u001b[39m np\u001b[38;5;241m.\u001b[39mappend(sigvar, sv0, axis\u001b[38;5;241m=\u001b[39m\u001b[38;5;241m0\u001b[39m)\n",
      "Cell \u001b[1;32mIn[59], line 77\u001b[0m, in \u001b[0;36mtuning_repeats\u001b[1;34m(sresp, istims, drifting)\u001b[0m\n\u001b[0;32m     75\u001b[0m     ist \u001b[38;5;241m=\u001b[39m np\u001b[38;5;241m.\u001b[39mlogical_and(istims[:,\u001b[38;5;241m0\u001b[39m]\u001b[38;5;241m==\u001b[39miori, istims[:,\u001b[38;5;241m1\u001b[39m]\u001b[38;5;241m==\u001b[39m\u001b[38;5;241m8\u001b[39m)\n\u001b[0;32m     76\u001b[0m \u001b[38;5;28;01melse\u001b[39;00m:\n\u001b[1;32m---> 77\u001b[0m     ist \u001b[38;5;241m=\u001b[39m \u001b[43mnp\u001b[49m\u001b[38;5;241;43m.\u001b[39;49m\u001b[43mlogical_and\u001b[49m\u001b[43m(\u001b[49m\u001b[43mnp\u001b[49m\u001b[38;5;241;43m.\u001b[39;49m\u001b[43mlogical_and\u001b[49m\u001b[43m(\u001b[49m\u001b[43mistims\u001b[49m\u001b[43m[\u001b[49m\u001b[43m:\u001b[49m\u001b[43m,\u001b[49m\u001b[38;5;241;43m0\u001b[39;49m\u001b[43m]\u001b[49m\u001b[38;5;241;43m==\u001b[39;49m\u001b[43miori\u001b[49m\u001b[43m,\u001b[49m\u001b[43m \u001b[49m\u001b[43mistims\u001b[49m\u001b[43m[\u001b[49m\u001b[43m:\u001b[49m\u001b[43m,\u001b[49m\u001b[38;5;241;43m1\u001b[39;49m\u001b[43m]\u001b[49m\u001b[38;5;241;43m==\u001b[39;49m\u001b[38;5;241;43m0.0\u001b[39;49m\u001b[43m,\u001b[49m\u001b[43m \u001b[49m\u001b[43mistims\u001b[49m\u001b[43m[\u001b[49m\u001b[43m:\u001b[49m\u001b[43m,\u001b[49m\u001b[38;5;241;43m2\u001b[39;49m\u001b[43m]\u001b[49m\u001b[38;5;241;43m==\u001b[39;49m\u001b[38;5;241;43m0.04\u001b[39;49m\u001b[43m)\u001b[49m\u001b[43m)\u001b[49m\n\u001b[0;32m     78\u001b[0m ink \u001b[38;5;241m=\u001b[39m (ist)\u001b[38;5;241m.\u001b[39msum() \u001b[38;5;241m/\u001b[39m\u001b[38;5;241m/\u001b[39m \u001b[38;5;241m2\u001b[39m\n\u001b[0;32m     79\u001b[0m two_repeats[ik:ik\u001b[38;5;241m+\u001b[39mink,:,\u001b[38;5;241m0\u001b[39m] \u001b[38;5;241m=\u001b[39m sresp[:, ist][:, :ink]\u001b[38;5;241m.\u001b[39mT\n",
      "\u001b[1;31mTypeError\u001b[0m: logical_and() takes from 2 to 3 positional arguments but 1 were given"
     ]
    }
   ],
   "source": [
    "sigvar = np.zeros((0,), np.float32)\n",
    "for sids in session_ids[1:]:\n",
    "    session_id = sids\n",
    "    print(session_id)\n",
    "    session = cache.get_session_data(session_id)\n",
    "    #session.metadata\n",
    "    vis_units = session.units[np.isin(session.units[\"ecephys_structure_acronym\"], \n",
    "                                      [\"VISp\"])]# , \"VISrl\", \"VISl\", \"VISam\", \"VISpm\"])]\n",
    "\n",
    "    # drifting\n",
    "    #sresp, istims = get_spikes(session, vis_units, True)\n",
    "    #tun, two_repeats, sigvar = tuning_repeats(sresp, istims, True)\n",
    "    #print(sigvar.mean())\n",
    "    \n",
    "    # static\n",
    "    sresp, istims = get_spikes(session, vis_units, False)\n",
    "    tun, two_repeats, sv0 = tuning_repeats(sresp, istims, False)\n",
    "    print(sv0.mean())\n",
    "    sigvar = np.append(sigvar, sv0, axis=0)\n",
    "    print(two_repeats.shape)"
   ]
  },
  {
   "cell_type": "code",
   "execution_count": 51,
   "metadata": {},
   "outputs": [
    {
     "name": "stdout",
     "output_type": "stream",
     "text": [
      "[[5398.31325738159, 5398.563476312724], [5398.563476312724, 5398.813695243857], [5398.813695243857, 5399.063914174991], [9150.74683417499, 9150.997045243856], [9150.997045243856, 9151.247256312725], [9151.247256312725, 9151.49746738159]]\n"
     ]
    }
   ],
   "source": [
    "data = [[5398.31325738159, 5398.563476312724, 'static_gratings'],\n",
    "        [5398.563476312724, 5398.813695243857, 'static_gratings'],\n",
    "        [5398.813695243857, 5399.063914174991, 'static_gratings'],\n",
    "        [9150.74683417499, 9150.997045243856, 'static_gratings'],\n",
    "        [9150.997045243856, 9151.247256312725, 'static_gratings'],\n",
    "        [9151.247256312725, 9151.49746738159, 'static_gratings']]\n",
    "\n",
    "# Remove \"static_gratings\" from each sublist\n",
    "#data_without_gratings = np.where(data == 'static_gratings', np.nan, data)\n",
    "\n",
    "\n",
    "#print(data_without_gratings)\n",
    "\n",
    "\n",
    "item_to_remove = 'static_gratings'\n",
    "\n",
    "# Loop through sublists and remove the item within each sublist\n",
    "data_without_gratings = []\n",
    "for sublist in data:\n",
    "  data_without_gratings.append([item for item in sublist if item != item_to_remove])\n",
    "\n",
    "print(data_without_gratings)\n"
   ]
  },
  {
   "cell_type": "code",
   "execution_count": 14,
   "metadata": {},
   "outputs": [
    {
     "data": {
      "text/plain": [
       "(32,)"
      ]
     },
     "execution_count": 14,
     "metadata": {},
     "output_type": "execute_result"
    }
   ],
   "source": [
    "session_ids.shape"
   ]
  },
  {
   "cell_type": "code",
   "execution_count": 12,
   "metadata": {},
   "outputs": [
    {
     "data": {
      "text/plain": [
       "(127, 60, 2)"
      ]
     },
     "execution_count": 12,
     "metadata": {},
     "output_type": "execute_result"
    }
   ],
   "source": []
  },
  {
   "cell_type": "code",
   "execution_count": 4,
   "metadata": {},
   "outputs": [],
   "source": [
    "session = cache.get_session_data(session_ids[0])"
   ]
  },
  {
   "cell_type": "code",
   "execution_count": 8,
   "metadata": {},
   "outputs": [
    {
     "data": {
      "text/plain": [
       "array(['0.02', '0.04', '0.08', '0.16', '0.32', 'null'], dtype=object)"
      ]
     },
     "execution_count": 8,
     "metadata": {},
     "output_type": "execute_result"
    }
   ],
   "source": [
    "np.unique(session.get_stimulus_table('static_gratings')['spatial_frequency'])"
   ]
  },
  {
   "cell_type": "code",
   "execution_count": 14,
   "metadata": {},
   "outputs": [
    {
     "ename": "NameError",
     "evalue": "name 'two_repeats' is not defined",
     "output_type": "error",
     "traceback": [
      "\u001b[1;31m---------------------------------------------------------------------------\u001b[0m",
      "\u001b[1;31mNameError\u001b[0m                                 Traceback (most recent call last)",
      "Cell \u001b[1;32mIn[14], line 3\u001b[0m\n\u001b[0;32m      1\u001b[0m saveroot \u001b[38;5;241m=\u001b[39m \u001b[38;5;124m'\u001b[39m\u001b[38;5;124mC:/IITGn/Sem 2/Computation and Cognition/Project/Output\u001b[39m\u001b[38;5;124m'\u001b[39m\n\u001b[1;32m----> 3\u001b[0m np\u001b[38;5;241m.\u001b[39msave(os\u001b[38;5;241m.\u001b[39mpath\u001b[38;5;241m.\u001b[39mjoin(saveroot, \u001b[38;5;124m'\u001b[39m\u001b[38;5;124mephys_sigvar.npy\u001b[39m\u001b[38;5;124m'\u001b[39m), {\u001b[38;5;124m'\u001b[39m\u001b[38;5;124msigvar\u001b[39m\u001b[38;5;124m'\u001b[39m: sigvar, \u001b[38;5;124m'\u001b[39m\u001b[38;5;124mtwor_ex\u001b[39m\u001b[38;5;124m'\u001b[39m: \u001b[43mtwo_repeats\u001b[49m})\n",
      "\u001b[1;31mNameError\u001b[0m: name 'two_repeats' is not defined"
     ]
    }
   ],
   "source": [
    "saveroot = 'C:/IITGn/Sem 2/Computation and Cognition/Project/Output'\n",
    "\n",
    "np.save(os.path.join(saveroot, 'ephys_sigvar.npy'), {'sigvar': sigvar, 'twor_ex': two_repeats})"
   ]
  },
  {
   "cell_type": "code",
   "execution_count": null,
   "metadata": {},
   "outputs": [],
   "source": [
    "print(np.nanmean(sigvar))\n",
    "plt.hist(sigvar, 100)\n",
    "plt.show()"
   ]
  },
  {
   "cell_type": "code",
   "execution_count": null,
   "metadata": {},
   "outputs": [],
   "source": [
    "idx=isort[0]\n",
    "plt.plot(np.unique(ori)[1:], tun[:,idx])\n",
    "plt.scatter(ori[ori!=-1] + 3*np.random.rand(nstim), \n",
    "            design[ori!=-1,idx] + .3*np.random.rand(nstim), \n",
    "            s=3, marker='o',alpha=0.1)\n",
    "plt.ylim([0,12])"
   ]
  },
  {
   "cell_type": "code",
   "execution_count": null,
   "metadata": {},
   "outputs": [],
   "source": [
    "import decoders\n",
    "istim = ori[ori!=-1]*np.pi/180\n",
    "nstim = istim.size\n",
    "itest = np.random.rand(nstim)<.25\n",
    "itrain = np.ones((nstim,), np.bool)\n",
    "itrain[itest] = 0\n",
    "apred, error, ypred, logL, SNR, theta_pref = decoders.independent_decoder(\n",
    "    design[ori!=-1].T, istim, itrain, itest, nbase=5)\n",
    "\n",
    "np.median(np.abs(error))*180/np.pi"
   ]
  },
  {
   "cell_type": "code",
   "execution_count": null,
   "metadata": {},
   "outputs": [],
   "source": [
    "plt.scatter(istim[itest], apred, s=1)"
   ]
  },
  {
   "cell_type": "code",
   "execution_count": null,
   "metadata": {},
   "outputs": [],
   "source": [
    "plt.hist(error)\n",
    "plt.show()"
   ]
  },
  {
   "cell_type": "code",
   "execution_count": null,
   "metadata": {},
   "outputs": [],
   "source": [
    "print(SNR.mean())\n",
    "for a in np.unique(areas):\n",
    "    print(a, SNR[areas==a].mean())\n",
    "plt.hist(SNR,100)\n",
    "plt.show()"
   ]
  },
  {
   "cell_type": "code",
   "execution_count": null,
   "metadata": {},
   "outputs": [],
   "source": [
    "SNR.shape"
   ]
  },
  {
   "cell_type": "code",
   "execution_count": null,
   "metadata": {},
   "outputs": [],
   "source": [
    "np.unique(istim)"
   ]
  },
  {
   "cell_type": "code",
   "execution_count": null,
   "metadata": {},
   "outputs": [],
   "source": []
  },
  {
   "cell_type": "code",
   "execution_count": null,
   "metadata": {},
   "outputs": [],
   "source": [
    "np.unique(design.to_numpy().flatten())"
   ]
  },
  {
   "cell_type": "code",
   "execution_count": null,
   "metadata": {},
   "outputs": [],
   "source": [
    "from sklearn import svm\n",
    "from sklearn.model_selection import KFold\n",
    "from sklearn.metrics import confusion_matrix\n",
    "\n",
    "design_arr = design.values.astype(np.float32)[ori!=-1]\n",
    "targets_arr = ori[ori!=-1].astype(np.float32)\n",
    "labels = np.unique(ori)[1:]\n",
    "\n",
    "accuracies = []\n",
    "confusions = []\n",
    "\n",
    "for train_indices, test_indices in KFold(n_splits=5).split(design_arr):\n",
    "    \n",
    "    clf = svm.SVC(gamma=\"scale\", kernel=\"rbf\")\n",
    "    clf.fit(design_arr[train_indices], targets_arr[train_indices])\n",
    "    \n",
    "    test_targets = targets_arr[test_indices]\n",
    "    test_predictions = clf.predict(design_arr[test_indices])\n",
    "    \n",
    "    accuracy = 1 - (np.count_nonzero(test_predictions - test_targets) / test_predictions.size)\n",
    "    print(accuracy)\n",
    "    \n",
    "    accuracies.append(accuracy)\n",
    "    confusions.append(confusion_matrix(test_targets, test_predictions, labels))\n",
    "\n",
    "plt.plot(tun[:,::10])\n",
    "plt.show()"
   ]
  },
  {
   "cell_type": "code",
   "execution_count": null,
   "metadata": {},
   "outputs": [],
   "source": [
    "from sklearn.neighbors import KNeighborsClassifier\n",
    "\n",
    "neigh = KNeighborsClassifier(n_neighbors=10)\n",
    "neigh.fit(design_arr[train_indices], targets_arr[train_indices])\n",
    "ypred = neigh.predict(design_arr[test_indices])\n",
    "print(neigh.score(design_arr[test_indices], targets_arr[test_indices]))"
   ]
  },
  {
   "cell_type": "code",
   "execution_count": null,
   "metadata": {},
   "outputs": [],
   "source": [
    "from sklearn.ensemble import RandomForestClassifier\n",
    "\n",
    "model = RandomForestClassifier(n_estimators=100).fit(design_arr[train_indices], targets_arr[train_indices])\n",
    "ypred = model.predict(design_arr[test_indices])\n",
    "print(model.score(design_arr[test_indices], targets_arr[test_indices]))"
   ]
  },
  {
   "cell_type": "code",
   "execution_count": null,
   "metadata": {},
   "outputs": [],
   "source": [
    "mean_confusion = np.mean(confusions, axis=0)\n",
    "\n",
    "fig, ax = plt.subplots(figsize=(8, 8))\n",
    "\n",
    "img = ax.imshow(mean_confusion)\n",
    "fig.colorbar(img)\n",
    "\n",
    "ax.set_ylabel(\"actual\")\n",
    "ax.set_xlabel(\"predicted\")\n",
    "\n",
    "plt.show()"
   ]
  }
 ],
 "metadata": {
  "kernelspec": {
   "display_name": "Python 3",
   "language": "python",
   "name": "python3"
  },
  "language_info": {
   "codemirror_mode": {
    "name": "ipython",
    "version": 3
   },
   "file_extension": ".py",
   "mimetype": "text/x-python",
   "name": "python",
   "nbconvert_exporter": "python",
   "pygments_lexer": "ipython3",
   "version": "3.11.1"
  },
  "varInspector": {
   "cols": {
    "lenName": 16,
    "lenType": 16,
    "lenVar": 40
   },
   "kernels_config": {
    "python": {
     "delete_cmd_postfix": "",
     "delete_cmd_prefix": "del ",
     "library": "var_list.py",
     "varRefreshCmd": "print(var_dic_list())"
    },
    "r": {
     "delete_cmd_postfix": ") ",
     "delete_cmd_prefix": "rm(",
     "library": "var_list.r",
     "varRefreshCmd": "cat(var_dic_list()) "
    }
   },
   "types_to_exclude": [
    "module",
    "function",
    "builtin_function_or_method",
    "instance",
    "_Feature"
   ],
   "window_display": false
  }
 },
 "nbformat": 4,
 "nbformat_minor": 2
}
